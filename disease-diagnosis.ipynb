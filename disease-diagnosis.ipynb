{
  "cells": [
    {
      "cell_type": "markdown",
      "metadata": {},
      "source": [
        "# Disease Diagnosis Deep Learning Model\n",
        "\n",
        "Acute respiratory distress syndrome (ARDS) is a serious form of repiratory failure that causes low blood oxygen. Its symptoms are difficult to differentiate from other lung conditions and diagnosis often requires invasive surgery.\n",
        "\n",
        "In this project, we fine-tune a pre-trained LLM to evaluate if a patient has ARDS based on their history of medical notes."
      ]
    },
    {
      "cell_type": "markdown",
      "metadata": {},
      "source": [
        "# Install packages"
      ]
    },
    {
      "cell_type": "code",
      "execution_count": null,
      "metadata": {
        "id": "jHw8IfSe4OM5"
      },
      "outputs": [],
      "source": [
        "!pip install transformers --quiet"
      ]
    },
    {
      "cell_type": "markdown",
      "metadata": {
        "id": "84IOTuQn6AfD"
      },
      "source": [
        "# Load Dataset"
      ]
    },
    {
      "cell_type": "code",
      "execution_count": null,
      "metadata": {
        "colab": {
          "base_uri": "https://localhost:8080/"
        },
        "id": "k6O7Ql7mb0jo",
        "outputId": "e5e04944-8b64-4f5d-adc9-5ae95a545e52"
      },
      "outputs": [],
      "source": [
        "import pandas as pd\n",
        "import numpy as np\n",
        "import tensorflow as tf\n",
        "\n",
        "df = pd.read_pickle('training.pkl')\n",
        "df['label'] = df['label'].replace({True: 1, False: 0})"
      ]
    },
    {
      "cell_type": "markdown",
      "metadata": {
        "id": "0_D_xCwh6W_f"
      },
      "source": [
        "# Preprocessing"
      ]
    },
    {
      "cell_type": "markdown",
      "metadata": {
        "id": "EYXZBTMU1_Ya"
      },
      "source": [
        "### Summarizing notes"
      ]
    },
    {
      "cell_type": "code",
      "execution_count": 204,
      "metadata": {
        "id": "aM4_HV96ocWc"
      },
      "outputs": [],
      "source": [
        "stopwords = ['i', 'me', 'my', 'myself', 'we', 'our', 'ours', 'ourselves', 'you', \"you're\", \"you've\", \"you'll\", \"you'd\", 'your', 'yours', 'yourself', 'yourselves', 'he', 'him', 'his', 'himself', 'she', \"she's\", 'her', 'hers', 'herself', 'it', \"it's\", 'its', 'itself', 'they', 'them', 'their', 'theirs', 'themselves', 'what', 'which', 'who', 'whom', 'this', 'that', \"that'll\", 'these', 'those', 'am', 'is', 'are', 'was', 'were', 'be', 'been', 'being', 'have', 'has', 'had', 'having', 'do', 'does', 'did', 'doing', 'a', 'an', 'the', 'and', 'but', 'if', 'or', 'because', 'as', 'until', 'while', 'of', 'at', 'by', 'for', 'with', 'about', 'against', 'between', 'into', 'through', 'during', 'before', 'after', 'above', 'below', 'to', 'from', 'up', 'down', 'in', 'out', 'on', 'off', 'over', 'under', 'again', 'further', 'then', 'once', 'here', 'there', 'when', 'where', 'why', 'how', 'all', 'any', 'both', 'each', 'few', \"more\", \"most\", \"other\", \"some\", \"such\", \"no\", \"nor\", \"not\", \"only\", \"own\", \"same\", \"so\", \"than\", \"too\", \"very\", \"s\", \"t\", \"can\", \"will\", \"just\", \"don\", \"don't\", \"should\", \"should've\", \"now\", \"d\", \"ll\", \"m\", \"o\", \"re\", \"ve\", \"y\", \"ain\", \"aren\", \"aren't\", \"couldn\", \"couldn't\", \"didn\", \"didn't\", \"doesn\", \"doesn't\", \"hadn\", \"hadn't\", \"hasn\", \"hasn't\", \"haven\", \"haven't\", \"isn\", \"isn't\", \"ma\", \"mightn\", \"mightn't\", \"mustn\", \"mustn't\", \"needn\", \"needn't\", \"shan\", \"shan't\", \"shouldn\", \"shouldn't\", \"wasn\", \"wasn't\", \"weren\", \"weren't\", \"won\", \"won't\", \"wouldn\", \"wouldn't\"]"
      ]
    },
    {
      "cell_type": "code",
      "execution_count": 205,
      "metadata": {
        "id": "Kl_PN3Xy13L7"
      },
      "outputs": [],
      "source": [
        "def select_impressions(text):\n",
        "  text = text.replace(\"___\", \"\")\n",
        "  f = text.split(\"IMPRESSION:\")\n",
        "  results = [\"(\"+str(idx)+\")\"+i.split(\"Note\")[0].replace(\"\\n\",\" \") for idx,i in enumerate(f[1:])]\n",
        "  return \"\".join(results)\n",
        "\n",
        "def remove_stopwords(text):\n",
        "  f = text.split()\n",
        "  results = [word for word in f if word.lower() not in stopwords]\n",
        "  return str(len(results))+\" \"+\" \".join(results)\n",
        "\n",
        "df['text'] = df['text'].apply(select_impressions)\n",
        "df['text'] = df['text'].apply(remove_stopwords)"
      ]
    },
    {
      "cell_type": "markdown",
      "metadata": {
        "id": "645uEE6Y13cA"
      },
      "source": [
        "### Oversampling/undersampling"
      ]
    },
    {
      "cell_type": "code",
      "execution_count": 186,
      "metadata": {
        "id": "voL0cst01-CH"
      },
      "outputs": [],
      "source": [
        "import random\n",
        "\n",
        "sample= df.iloc[random.sample(range(180,8180), 3600),:]\n",
        "df_new = pd.DataFrame(np.repeat(df.iloc[0:180,:].values, 20, axis=0))\n",
        "df_new = df_new.rename(columns={0:'text', 1:'label'})\n",
        "df = pd.concat([df_new, sample], ignore_index = True)"
      ]
    },
    {
      "cell_type": "markdown",
      "metadata": {
        "id": "8szuLBgh6ufd"
      },
      "source": [
        "### Train/test split"
      ]
    },
    {
      "cell_type": "code",
      "execution_count": 187,
      "metadata": {
        "id": "wwk0JIXByeMO"
      },
      "outputs": [],
      "source": [
        "from sklearn.model_selection import train_test_split\n",
        "\n",
        "X_train, X_test, y_train, y_test = train_test_split(df.text, df.label, test_size=0.2, random_state=0)\n",
        "X_train, X_valid, y_train, y_valid = train_test_split(X_train, y_train, test_size=0.2, random_state=0)"
      ]
    },
    {
      "cell_type": "markdown",
      "metadata": {
        "id": "mOEn6BTe6Tab"
      },
      "source": [
        "# Parameters"
      ]
    },
    {
      "cell_type": "code",
      "execution_count": 195,
      "metadata": {
        "id": "sW96jnLV6o_F"
      },
      "outputs": [],
      "source": [
        "params = {'MAX_LENGTH': 256,\n",
        "          'EPOCHS': 10,\n",
        "          'LR': 2e-5,\n",
        "          'BATCH_SIZE': 64,\n",
        "          'NUM_STEPS': len(X_train.index) // 64,\n",
        "          'DISTILBERT_DROPOUT': 0.2,\n",
        "          'DISTILBERT_ATT_DROPOUT': 0.2,\n",
        "          'LAYER_DROPOUT': 0.2,\n",
        "          'SEED':42,\n",
        "          'CLASS_WEIGHTS': {0:0.1, 1:800}\n",
        "          }"
      ]
    },
    {
      "cell_type": "markdown",
      "metadata": {
        "id": "bW3kUhNSxto4"
      },
      "source": [
        "## Tokenize Text"
      ]
    },
    {
      "cell_type": "code",
      "execution_count": 189,
      "metadata": {
        "id": "hsHKe9Bo1eA1"
      },
      "outputs": [],
      "source": [
        "from transformers import AutoTokenizer\n",
        "\n",
        "tokenizer = AutoTokenizer.from_pretrained(\"emilyalsentzer/Bio_ClinicalBERT\")"
      ]
    },
    {
      "cell_type": "code",
      "execution_count": 190,
      "metadata": {
        "id": "FKBl2Rx540ey"
      },
      "outputs": [],
      "source": [
        "def batch_encode(texts, batch_size=256):\n",
        "\n",
        "\n",
        "    input_ids = []\n",
        "    attention_mask = []\n",
        "\n",
        "    for i in range(0, len(texts), batch_size):\n",
        "        batch = texts[i:i+batch_size]\n",
        "        inputs = tokenizer.batch_encode_plus(batch,\n",
        "                                             max_length=params['MAX_LENGTH'],\n",
        "                                             padding='longest',\n",
        "                                             truncation=True,\n",
        "                                             return_attention_mask=True,\n",
        "                                             return_token_type_ids=False\n",
        "                                             )\n",
        "        input_ids.extend(inputs['input_ids'])\n",
        "        attention_mask.extend(inputs['attention_mask'])\n",
        "\n",
        "\n",
        "    return tf.convert_to_tensor(input_ids), tf.convert_to_tensor(attention_mask)"
      ]
    },
    {
      "cell_type": "code",
      "execution_count": 191,
      "metadata": {
        "id": "XFYZAoKKw-hV"
      },
      "outputs": [],
      "source": [
        "X_train_ids, X_train_attention = batch_encode(X_train.tolist())\n",
        "X_valid_ids, X_valid_attention = batch_encode(X_valid.tolist())\n",
        "X_test_ids, X_test_attention = batch_encode(X_test.tolist())"
      ]
    },
    {
      "cell_type": "markdown",
      "metadata": {
        "id": "Sku5efUVxsSV"
      },
      "source": [
        "## Build Model"
      ]
    },
    {
      "cell_type": "code",
      "execution_count": 192,
      "metadata": {
        "colab": {
          "base_uri": "https://localhost:8080/"
        },
        "id": "BvX9PzqavzCh",
        "outputId": "4f323c56-ac80-43a1-f796-83d04043ffa3"
      },
      "outputs": [
        {
          "name": "stderr",
          "output_type": "stream",
          "text": [
            "Some layers from the model checkpoint at emilyalsentzer/Bio_ClinicalBERT were not used when initializing TFDistilBertModel: ['bert', 'nsp___cls', 'mlm___cls']\n",
            "- This IS expected if you are initializing TFDistilBertModel from the checkpoint of a model trained on another task or with another architecture (e.g. initializing a BertForSequenceClassification model from a BertForPreTraining model).\n",
            "- This IS NOT expected if you are initializing TFDistilBertModel from the checkpoint of a model that you expect to be exactly identical (initializing a BertForSequenceClassification model from a BertForSequenceClassification model).\n",
            "Some layers of TFDistilBertModel were not initialized from the model checkpoint at emilyalsentzer/Bio_ClinicalBERT and are newly initialized: ['distilbert']\n",
            "You should probably TRAIN this model on a down-stream task to be able to use it for predictions and inference.\n"
          ]
        }
      ],
      "source": [
        "from transformers import DistilBertConfig, TFDistilBertModel, TFAutoModel\n",
        "\n",
        "config = DistilBertConfig(dropout=params['DISTILBERT_DROPOUT'],\n",
        "                          attention_dropout=params['DISTILBERT_ATT_DROPOUT'],\n",
        "                          output_hidden_states=True)\n",
        "\n",
        "distilBERT = TFAutoModel.from_pretrained('emilyalsentzer/Bio_ClinicalBERT', config=config)"
      ]
    },
    {
      "cell_type": "code",
      "execution_count": 196,
      "metadata": {
        "id": "JOTLkJhhxLDQ"
      },
      "outputs": [],
      "source": [
        "from tensorflow.keras.layers import Input, Dropout, Dense\n",
        "\n",
        "def build_model():\n",
        "\n",
        "    kernel_initializer = tf.keras.initializers.GlorotNormal(seed=params['SEED'])\n",
        "\n",
        "    # Input layers\n",
        "    input_ids_layer = Input(shape=(params['MAX_LENGTH'],),\n",
        "                                            name='input_ids',\n",
        "                                            dtype='int32')\n",
        "    input_attention_layer = Input(shape=(params['MAX_LENGTH'],),\n",
        "                                                  name='input_attention',\n",
        "                                                  dtype='int32')\n",
        "\n",
        "    # distilBERT output\n",
        "    last_hidden_state = distilBERT([input_ids_layer, input_attention_layer])[0]\n",
        "    cls = last_hidden_state[:, 0, :]\n",
        "\n",
        "    # Classifier\n",
        "    dropout1 = Dropout(params['LAYER_DROPOUT'],\n",
        "                       seed=params['SEED']\n",
        "                       )(cls)\n",
        "    X = Dense(256,\n",
        "              activation='relu',\n",
        "              kernel_initializer=kernel_initializer,\n",
        "              )(dropout1)\n",
        "    dropout2 = Dropout(params['LAYER_DROPOUT'],\n",
        "                       seed=params['SEED']\n",
        "                       )(X)\n",
        "    X = Dense(32,\n",
        "              activation='relu',\n",
        "              kernel_initializer=kernel_initializer,\n",
        "              )(dropout2)\n",
        "    dropout3 = Dropout(params['LAYER_DROPOUT'],\n",
        "                       seed=params['SEED']\n",
        "                       )(X)\n",
        "\n",
        "    # Output layer\n",
        "    output = Dense(1,\n",
        "                   activation='sigmoid',\n",
        "                   kernel_initializer=kernel_initializer,\n",
        "                   )(dropout3)\n",
        "\n",
        "    # Create and compile model\n",
        "    model = tf.keras.Model([input_ids_layer, input_attention_layer], output)\n",
        "    model.compile(tf.keras.optimizers.legacy.Adam(learning_rate=params['LR']),\n",
        "                  loss=tf.keras.losses.BinaryFocalCrossentropy(gamma=1.5, alpha=0.1),\n",
        "                  metrics=['Accuracy', tf.keras.metrics.F1Score(average='macro')])\n",
        "\n",
        "    return model\n",
        "\n",
        "\n",
        "model = build_model()"
      ]
    },
    {
      "cell_type": "markdown",
      "metadata": {
        "id": "VlxM72Fxx_Pz"
      },
      "source": [
        "## Unfreeze DistilBERT and Fine-tune All Weights"
      ]
    },
    {
      "cell_type": "code",
      "execution_count": 197,
      "metadata": {
        "colab": {
          "base_uri": "https://localhost:8080/"
        },
        "id": "z1pZdHusx02s",
        "outputId": "06c816d0-6a74-41a4-8697-6d995e0ccf68"
      },
      "outputs": [
        {
          "name": "stdout",
          "output_type": "stream",
          "text": [
            "Epoch 1/10\n",
            "72/72 - 411s - loss: 0.6110 - Accuracy: 0.5432 - f1_score: 0.6682 - val_loss: 0.2123 - val_Accuracy: 0.7118 - val_f1_score: 0.6674 - 411s/epoch - 6s/step\n",
            "Epoch 2/10\n",
            "72/72 - 377s - loss: 0.3421 - Accuracy: 0.5933 - f1_score: 0.6682 - val_loss: 0.2153 - val_Accuracy: 0.6997 - val_f1_score: 0.6674 - 377s/epoch - 5s/step\n",
            "Epoch 3/10\n",
            "72/72 - 381s - loss: 0.2562 - Accuracy: 0.6803 - f1_score: 0.6682 - val_loss: 0.1787 - val_Accuracy: 0.7552 - val_f1_score: 0.6674 - 381s/epoch - 5s/step\n",
            "Epoch 4/10\n",
            "72/72 - 369s - loss: 0.1906 - Accuracy: 0.7641 - f1_score: 0.6682 - val_loss: 0.1201 - val_Accuracy: 0.8420 - val_f1_score: 0.6674 - 369s/epoch - 5s/step\n",
            "Epoch 5/10\n",
            "72/72 - 379s - loss: 0.1271 - Accuracy: 0.8563 - f1_score: 0.6682 - val_loss: 0.0822 - val_Accuracy: 0.9149 - val_f1_score: 0.6674 - 379s/epoch - 5s/step\n",
            "Epoch 6/10\n",
            "72/72 - 363s - loss: 0.0747 - Accuracy: 0.9234 - f1_score: 0.6683 - val_loss: 0.0596 - val_Accuracy: 0.9392 - val_f1_score: 0.6674 - 363s/epoch - 5s/step\n",
            "Epoch 7/10\n",
            "72/72 - 353s - loss: 0.0550 - Accuracy: 0.9490 - f1_score: 0.6685 - val_loss: 0.0524 - val_Accuracy: 0.9583 - val_f1_score: 0.6674 - 353s/epoch - 5s/step\n",
            "Epoch 8/10\n",
            "72/72 - 374s - loss: 0.0546 - Accuracy: 0.9551 - f1_score: 0.6687 - val_loss: 0.0888 - val_Accuracy: 0.9358 - val_f1_score: 0.6674 - 374s/epoch - 5s/step\n",
            "Epoch 9/10\n",
            "72/72 - 430s - loss: 0.0308 - Accuracy: 0.9755 - f1_score: 0.6687 - val_loss: 0.0269 - val_Accuracy: 0.9818 - val_f1_score: 0.6674 - 430s/epoch - 6s/step\n",
            "Epoch 10/10\n",
            "72/72 - 455s - loss: 0.0186 - Accuracy: 0.9881 - f1_score: 0.6695 - val_loss: 0.0236 - val_Accuracy: 0.9878 - val_f1_score: 0.6674 - 455s/epoch - 6s/step\n"
          ]
        }
      ],
      "source": [
        "optimizer = tf.keras.optimizers.legacy.Adam(learning_rate=params['LR'])\n",
        "\n",
        "early_stopping = tf.keras.callbacks.EarlyStopping(monitor='val_loss',\n",
        "                                                  mode='min',\n",
        "                                                  min_delta=0.02,\n",
        "                                                  patience=2,\n",
        "                                                  restore_best_weights=True)\n",
        "# Train the model\n",
        "train_history = model.fit(\n",
        "    x = [X_train_ids, X_train_attention],\n",
        "    y = y_train.astype('float32').to_numpy(),\n",
        "    epochs = params['EPOCHS'],\n",
        "    batch_size = params['BATCH_SIZE'],\n",
        "    steps_per_epoch = params['NUM_STEPS'],\n",
        "    validation_data = ([X_valid_ids, X_valid_attention],\n",
        "                       y_valid.astype('float32').to_numpy()),\n",
        "    callbacks=[early_stopping],\n",
        "    verbose=2\n",
        ")"
      ]
    },
    {
      "cell_type": "markdown",
      "metadata": {
        "id": "JVrsuxfayOmx"
      },
      "source": [
        "# Evaluate the model"
      ]
    },
    {
      "cell_type": "markdown",
      "metadata": {
        "id": "u8rnxQm80a1H"
      },
      "source": [
        "## Test split\n",
        "\n",
        "Oversampled"
      ]
    },
    {
      "cell_type": "code",
      "execution_count": 199,
      "metadata": {
        "colab": {
          "base_uri": "https://localhost:8080/"
        },
        "id": "aO9JlqUjXbOe",
        "outputId": "af9c3565-d40e-4797-8cf7-2f35d0138a54"
      },
      "outputs": [
        {
          "name": "stdout",
          "output_type": "stream",
          "text": [
            "              precision    recall  f1-score   support\n",
            "\n",
            "           0       1.00      0.98      0.99       729\n",
            "           1       0.98      1.00      0.99       711\n",
            "\n",
            "    accuracy                           0.99      1440\n",
            "   macro avg       0.99      0.99      0.99      1440\n",
            "weighted avg       0.99      0.99      0.99      1440\n",
            "\n"
          ]
        }
      ],
      "source": [
        "from sklearn.metrics import classification_report\n",
        "\n",
        "size = len(X_test_ids)\n",
        "step = 100\n",
        "r = 1400\n",
        "THRESHOLD2 = 0.5\n",
        "preds = []\n",
        "preds_bool = []\n",
        "for i in range(0,size,step):\n",
        "  if i + step >= size:\n",
        "    y_pred = model([X_test_ids[i:], X_test_attention[i:]])\n",
        "    y_pred_bool = [1 if x > THRESHOLD2 else 0 for x in y_pred]\n",
        "  else:\n",
        "    y_pred = model([X_test_ids[i:i+step], X_test_attention[i:i+step]])\n",
        "    y_pred_bool = [1 if x > THRESHOLD2 else 0 for x in y_pred]\n",
        "  preds.extend(y_pred)\n",
        "  preds_bool.extend(y_pred_bool)\n",
        "\n",
        "print(classification_report(y_temp_test, preds_bool))"
      ]
    },
    {
      "cell_type": "markdown",
      "metadata": {
        "id": "YLIPJ_Jh6uV2"
      },
      "source": [
        "### ROC"
      ]
    },
    {
      "cell_type": "code",
      "execution_count": 201,
      "metadata": {
        "colab": {
          "base_uri": "https://localhost:8080/",
          "height": 449
        },
        "id": "pZQiAHqi6uBp",
        "outputId": "2aa9566b-8dcb-4321-e70e-d4cf40096849"
      },
      "outputs": [
        {
          "data": {
            "image/png": "[encoded data removed]",
            "text/plain": [
              "<Figure size 640x480 with 1 Axes>"
            ]
          },
          "metadata": {},
          "output_type": "display_data"
        }
      ],
      "source": [
        "from sklearn import metrics\n",
        "import random\n",
        "import matplotlib.pyplot as plt\n",
        "from sklearn.metrics import RocCurveDisplay\n",
        "import matplotlib.pyplot as plt\n",
        "\n",
        "y_true = [1 if x == 1 else 0 for x in y_test]\n",
        "y_scores = tf.reshape(preds,[-1]).numpy()\n",
        "fpr, tpr, thresholds = metrics.roc_curve(y_true, y_scores, pos_label=1)\n",
        "roc_auc = metrics.auc(fpr, tpr)\n",
        "display = metrics.RocCurveDisplay(fpr=fpr, tpr=tpr, roc_auc=roc_auc, estimator_name='example estimator')\n",
        "display.plot()\n",
        "plt.show()"
      ]
    },
    {
      "cell_type": "code",
      "execution_count": 202,
      "metadata": {
        "colab": {
          "base_uri": "https://localhost:8080/",
          "height": 467
        },
        "id": "VmeI7dfR6xlp",
        "outputId": "6b298843-fca1-4654-8f73-f72714758d60"
      },
      "outputs": [
        {
          "name": "stdout",
          "output_type": "stream",
          "text": [
            "(0.9902234636871509, 0.51670223)\n"
          ]
        },
        {
          "data": {
            "image/png": "[encoded data removed]",
            "text/plain": [
              "<Figure size 640x480 with 1 Axes>"
            ]
          },
          "metadata": {},
          "output_type": "display_data"
        }
      ],
      "source": [
        "precision, recall, thresholds = metrics.precision_recall_curve(y_true, y_scores)\n",
        "\n",
        "def F1(precision, recall):\n",
        "  return (2*precision*recall)/(precision+recall)\n",
        "\n",
        "print(max([(F1(p,r),thresh) for p,r,thresh in zip(precision,recall,thresholds)]))\n",
        "\n",
        "display = metrics.PrecisionRecallDisplay(precision,recall)\n",
        "display.plot()\n",
        "plt.show()"
      ]
    },
    {
      "cell_type": "markdown",
      "metadata": {
        "id": "bjAG1TgM0TVT"
      },
      "source": [
        "## Original Dataset\n",
        "\n",
        "Not oversampled"
      ]
    },
    {
      "cell_type": "code",
      "execution_count": null,
      "metadata": {
        "colab": {
          "base_uri": "https://localhost:8080/"
        },
        "id": "qU5yntR57IEO",
        "outputId": "6bcc466a-ecd1-41ab-8c30-63f8508d6d68"
      },
      "outputs": [],
      "source": [
        "df = pd.read_pickle('training.pkl')\n",
        "df['label'] = df['label'].replace({True: 1, False: 0})\n",
        "df['text'] = df['text'].apply(select_impressions)\n",
        "df['text'] = df['text'].apply(remove_stopwords)"
      ]
    },
    {
      "cell_type": "code",
      "execution_count": 208,
      "metadata": {
        "id": "EI3ETTQvqdFZ"
      },
      "outputs": [],
      "source": [
        "tokenizer = AutoTokenizer.from_pretrained(\"emilyalsentzer/Bio_ClinicalBERT\")\n",
        "X_train, X_test, Y_train, Y_test = train_test_split(df.text, df.label, test_size=8000, random_state=0)\n",
        "X_test_ids, X_test_attention = batch_encode(X_test.tolist())"
      ]
    },
    {
      "cell_type": "code",
      "execution_count": 209,
      "metadata": {
        "id": "wQYtHkmRnSuU"
      },
      "outputs": [],
      "source": [
        "orig_ids, orig_attention = batch_encode(df['text'].tolist())"
      ]
    },
    {
      "cell_type": "code",
      "execution_count": 217,
      "metadata": {
        "id": "VT-OfYL5nQmU"
      },
      "outputs": [],
      "source": [
        "THRESHOLD = 0.5427001\n",
        "size = len(orig_ids)\n",
        "step = 100\n",
        "preds = []\n",
        "tensors = []\n",
        "for i in range(0,size,step):\n",
        "  if i + step >= size:\n",
        "    y_pred = model([orig_ids[i:], orig_attention[i:]])\n",
        "    y_pred_bool = [1 if x > THRESHOLD else 0 for x in y_pred]\n",
        "  else:\n",
        "    y_pred = model([orig_ids[i:i+step], orig_attention[i:i+step]])\n",
        "    y_pred_bool = [1 if x > THRESHOLD else 0 for x in y_pred]\n",
        "  tensors.extend(y_pred)\n",
        "  preds.extend(y_pred_bool)"
      ]
    },
    {
      "cell_type": "code",
      "execution_count": 218,
      "metadata": {
        "colab": {
          "base_uri": "https://localhost:8080/"
        },
        "id": "YSNSAMt0qVsB",
        "outputId": "1c3f089b-5ecf-4fc1-f265-bffa22ec3162"
      },
      "outputs": [
        {
          "data": {
            "text/plain": [
              "array([0.71446306, 0.6175705 , 0.5547055 , ..., 0.12794365, 0.12672152,\n",
              "       0.34336588], dtype=float32)"
            ]
          },
          "execution_count": 218,
          "metadata": {},
          "output_type": "execute_result"
        }
      ],
      "source": [
        "tf.reshape(tensors,[-1]).numpy()"
      ]
    },
    {
      "cell_type": "code",
      "execution_count": 219,
      "metadata": {
        "id": "WkxcPtManz-T"
      },
      "outputs": [],
      "source": [
        "ground_truth = [1 if x == 1 else 0 for x in df['label']]"
      ]
    },
    {
      "cell_type": "code",
      "execution_count": 220,
      "metadata": {
        "colab": {
          "base_uri": "https://localhost:8080/"
        },
        "id": "DJ_UP2eRnuyQ",
        "outputId": "5fa05031-1d02-4d62-fac3-7b11f90544f1"
      },
      "outputs": [
        {
          "name": "stdout",
          "output_type": "stream",
          "text": [
            "              precision    recall  f1-score   support\n",
            "\n",
            "           0       1.00      0.99      1.00      8000\n",
            "           1       0.77      0.92      0.84       180\n",
            "\n",
            "    accuracy                           0.99      8180\n",
            "   macro avg       0.88      0.96      0.92      8180\n",
            "weighted avg       0.99      0.99      0.99      8180\n",
            "\n"
          ]
        }
      ],
      "source": [
        "print(classification_report(ground_truth, preds))"
      ]
    },
    {
      "cell_type": "code",
      "execution_count": 214,
      "metadata": {
        "colab": {
          "base_uri": "https://localhost:8080/"
        },
        "id": "yHt27aCQ31a-",
        "outputId": "c63b2a99-04e0-4d05-b438-96fe6f6edbcc"
      },
      "outputs": [
        {
          "data": {
            "text/plain": [
              "0.7045009784735813"
            ]
          },
          "execution_count": 214,
          "metadata": {},
          "output_type": "execute_result"
        }
      ],
      "source": [
        "metrics.f1_score(ground_truth,preds)"
      ]
    },
    {
      "cell_type": "markdown",
      "metadata": {
        "id": "Ls9MIbac6SQ-"
      },
      "source": [
        "### ROC"
      ]
    },
    {
      "cell_type": "code",
      "execution_count": 215,
      "metadata": {
        "colab": {
          "base_uri": "https://localhost:8080/",
          "height": 449
        },
        "id": "9nbgqSZH6SBW",
        "outputId": "a2184636-fda4-43d7-8931-ce8fa883d246"
      },
      "outputs": [
        {
          "data": {
            "image/png": "[encoded data removed]",
            "text/plain": [
              "<Figure size 640x480 with 1 Axes>"
            ]
          },
          "metadata": {},
          "output_type": "display_data"
        }
      ],
      "source": [
        "y_true = ground_truth\n",
        "y_scores = tf.reshape(tensors,[-1]).numpy()\n",
        "fpr, tpr, thresholds = metrics.roc_curve(y_true, y_scores, pos_label=1)\n",
        "roc_auc = metrics.auc(fpr, tpr)\n",
        "display = metrics.RocCurveDisplay(fpr=fpr, tpr=tpr, roc_auc=roc_auc, estimator_name='example estimator')\n",
        "display.plot()\n",
        "plt.show()"
      ]
    },
    {
      "cell_type": "code",
      "execution_count": 216,
      "metadata": {
        "colab": {
          "base_uri": "https://localhost:8080/",
          "height": 467
        },
        "id": "CMmYKl4i9Sc6",
        "outputId": "63a11977-c4ac-4d3c-da03-0a9da8878425"
      },
      "outputs": [
        {
          "name": "stdout",
          "output_type": "stream",
          "text": [
            "(0.8413098236775818, 0.5427001)\n"
          ]
        },
        {
          "data": {
            "image/png": "[encoded data removed]",
            "text/plain": [
              "<Figure size 640x480 with 1 Axes>"
            ]
          },
          "metadata": {},
          "output_type": "display_data"
        }
      ],
      "source": [
        "precision, recall, thresholds = metrics.precision_recall_curve(y_true, y_scores)\n",
        "\n",
        "def F1(precision, recall):\n",
        "  return (2*precision*recall)/(precision+recall)\n",
        "print(max([(F1(p,r),thresh) for p,r,thresh in zip(precision,recall,thresholds)]))\n",
        "\n",
        "display = metrics.PrecisionRecallDisplay(precision,recall)\n",
        "display.plot()\n",
        "plt.show()"
      ]
    }
  ],
  "metadata": {
    "colab": {
      "provenance": []
    },
    "kernelspec": {
      "display_name": "Python 3",
      "name": "python3"
    },
    "language_info": {
      "codemirror_mode": {
        "name": "ipython",
        "version": 3
      },
      "file_extension": ".py",
      "mimetype": "text/x-python",
      "name": "python",
      "nbconvert_exporter": "python",
      "pygments_lexer": "ipython3",
      "version": "3.7.13"
    }
  },
  "nbformat": 4,
  "nbformat_minor": 0
}
